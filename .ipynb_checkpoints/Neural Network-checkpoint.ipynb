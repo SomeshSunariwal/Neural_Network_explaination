{
 "cells": [
  {
   "cell_type": "code",
   "execution_count": 1,
   "metadata": {},
   "outputs": [],
   "source": [
    "import numpy as np"
   ]
  },
  {
   "cell_type": "code",
   "execution_count": 2,
   "metadata": {},
   "outputs": [],
   "source": [
    "input_data = np.array([[0,0,1],\n",
    "                       [1,1,1],\n",
    "                       [1,0,1],\n",
    "                       [0,1,1]])"
   ]
  },
  {
   "cell_type": "code",
   "execution_count": 3,
   "metadata": {},
   "outputs": [],
   "source": [
    "target = np.array([[0],\n",
    "                   [1],\n",
    "                   [1],\n",
    "                   [0]])"
   ]
  },
  {
   "cell_type": "code",
   "execution_count": 4,
   "metadata": {},
   "outputs": [
    {
     "name": "stdout",
     "output_type": "stream",
     "text": [
      "(3, 3)\n",
      "(3, 1)\n"
     ]
    }
   ],
   "source": [
    "weight1 = np.random.uniform(0, 1, (3,3))\n",
    "weight2 = np.random.uniform(0, 1, (3,1))\n",
    "\n",
    "print(weight1.shape)\n",
    "print(weight2.shape)"
   ]
  },
  {
   "cell_type": "code",
   "execution_count": 5,
   "metadata": {},
   "outputs": [],
   "source": [
    "def sigmoid(x):\n",
    "    return 1/(1+np.exp(-x))\n",
    "\n",
    "def sig_der(x):\n",
    "    return x*(1-x)"
   ]
  },
  {
   "cell_type": "code",
   "execution_count": 6,
   "metadata": {},
   "outputs": [
    {
     "name": "stdout",
     "output_type": "stream",
     "text": [
      "Output [[0.14589876]\n",
      " [0.85770154]\n",
      " [0.899361  ]\n",
      " [0.13132901]]\n"
     ]
    }
   ],
   "source": [
    "learning = .01\n",
    "for i in range(10000):\n",
    "    data = input_data\n",
    "    output1 = sigmoid(np.dot(data, weight1))\n",
    "    output2 = sigmoid(np.dot(output1, weight2))\n",
    "    \n",
    "    # Backpropagation\n",
    "    # Error at 2nd layer\n",
    "    e2 = sig_der(output2)*(target-output2)\n",
    "    # Update the weight\n",
    "    data = np.dot(output1.T, e2)\n",
    "    weight2 += learning*np.dot(output1.T, e2)\n",
    "    \n",
    "    \n",
    "    # First layer error\n",
    "    e1 = sig_der(output2)* np.dot(e2, weight2.T)\n",
    "    weight1 += learning*np.dot(input_data.T, e1)\n",
    "    \n",
    "    \n",
    "#print(f\"Weight 1 {weight1}\")\n",
    "#print(f\"Weight 2 {weight2}\")\n",
    "print(f\"Output {output2}\")"
   ]
  },
  {
   "cell_type": "code",
   "execution_count": null,
   "metadata": {},
   "outputs": [],
   "source": []
  },
  {
   "cell_type": "code",
   "execution_count": null,
   "metadata": {},
   "outputs": [],
   "source": []
  }
 ],
 "metadata": {
  "kernelspec": {
   "display_name": "Python 3",
   "language": "python",
   "name": "python3"
  },
  "language_info": {
   "codemirror_mode": {
    "name": "ipython",
    "version": 3
   },
   "file_extension": ".py",
   "mimetype": "text/x-python",
   "name": "python",
   "nbconvert_exporter": "python",
   "pygments_lexer": "ipython3",
   "version": "3.6.8"
  }
 },
 "nbformat": 4,
 "nbformat_minor": 4
}
